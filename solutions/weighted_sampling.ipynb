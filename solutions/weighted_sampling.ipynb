{
 "cells": [
  {
   "cell_type": "markdown",
   "id": "fd2eac2a",
   "metadata": {},
   "source": [
    "# Weighted sampling"
   ]
  },
  {
   "cell_type": "code",
   "execution_count": 1,
   "id": "e88974ea",
   "metadata": {},
   "outputs": [],
   "source": [
    "import random as rd\n",
    "import numpy as np\n",
    "import itertools, bisect\n",
    "from matplotlib import pyplot as plt"
   ]
  },
  {
   "cell_type": "markdown",
   "id": "e997515d",
   "metadata": {},
   "source": [
    "## problem description\n",
    "\n",
    "You are given n numbers in an array `nums`, as well as probabilities $p_0$, $p_1$, ... , $p_{n - 1}$ which sum up to 1 in an array `probs`. \n",
    "How would you generate one of the n numbers according to the specified probabilities?\n",
    "\n",
    "For example, if the numbers are 3, 5, 7, 11, and the probabilities are 9/18, 6/18, 2/18, 1/18, then 1000000 calls to your program, 3 should appear roughly 500000 times, 5 should appear roughly 333333 times, 7 should appear roughly 111111 times, and 11 should appear roughly 55555 times.\n",
    "\n",
    "## strategy\n",
    "\n",
    "Based on `probs`, we can divide the interval $[0,1]$ into $I = [0, p_0, p_0+p_1, p_0+p_1+p_2,...]$. This can be either easily done by progressively adding probabilities in `probs`, or using the `accumulate()` function from `itertools`.\n",
    "\n",
    "Generate a uniform random number $U(0,1)$ and check what part of $I$ it falls onto (binary search). \n",
    "If it falls onto the $i$-th part of $I$, return `nums[i-1]`."
   ]
  },
  {
   "cell_type": "code",
   "execution_count": 2,
   "id": "aa69f640",
   "metadata": {},
   "outputs": [],
   "source": [
    "# sample one number\n",
    "def weighted_sampling(nums, probs):\n",
    "    \n",
    "    prob_intervals = [0.0]\n",
    "    cumulative = 0\n",
    "    for p in probs:\n",
    "        cumulative += p\n",
    "        prob_intervals.append(cumulative)\n",
    "    # prob_intervals = [0.0] + list(itertools.accumulate(probs))\n",
    "    \n",
    "    interval_idx = bisect.bisect(prob_intervals, rd.random()) - 1\n",
    "    return nums[interval_idx]\n",
    "\n",
    "# run the sampling process N times\n",
    "# results are stored in a dictionary containing the numbers along with frequencies\n",
    "def run_weighted_sampling(N, nums, probs):\n",
    "    sample = {}\n",
    "    for _ in range(N):\n",
    "        num = weighted_sampling(nums, probs)\n",
    "        sample[num] = sample.get(num, 0) + 1\n",
    "    \n",
    "    values = [num for num in sample.keys()]\n",
    "    freqs = [counts/N for counts in sample.values()]\n",
    "    plt.scatter(values, freqs, label='frequencies')\n",
    "    plt.scatter(nums, probs, label='probalilities')\n",
    "    plt.legend(loc='upper right')\n",
    "    plt.show()\n",
    "    return sample"
   ]
  },
  {
   "cell_type": "code",
   "execution_count": 3,
   "id": "e33d85b9",
   "metadata": {},
   "outputs": [
    {
     "data": {
      "image/png": "[encoded data removed]",
      "text/plain": [
       "<Figure size 432x288 with 1 Axes>"
      ]
     },
     "metadata": {
      "needs_background": "light"
     },
     "output_type": "display_data"
    },
    {
     "data": {
      "text/plain": [
       "{3: 505, 5: 337, 7: 111, 11: 47}"
      ]
     },
     "execution_count": 3,
     "metadata": {},
     "output_type": "execute_result"
    }
   ],
   "source": [
    "nums1 = [3, 5, 7, 11]\n",
    "probs1 = [9/18, 6/18, 2/18, 1/18]\n",
    "run_weighted_sampling(1000, nums1, probs1)"
   ]
  },
  {
   "cell_type": "code",
   "execution_count": null,
   "id": "8a23c0fb",
   "metadata": {},
   "outputs": [],
   "source": []
  }
 ],
 "metadata": {
  "kernelspec": {
   "display_name": "Python 3",
   "language": "python",
   "name": "python3"
  },
  "language_info": {
   "codemirror_mode": {
    "name": "ipython",
    "version": 3
   },
   "file_extension": ".py",
   "mimetype": "text/x-python",
   "name": "python",
   "nbconvert_exporter": "python",
   "pygments_lexer": "ipython3",
   "version": "3.8.8"
  }
 },
 "nbformat": 4,
 "nbformat_minor": 5
}
