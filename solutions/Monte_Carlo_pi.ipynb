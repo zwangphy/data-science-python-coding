{
 "cells": [
  {
   "cell_type": "markdown",
   "id": "e6ac6743",
   "metadata": {},
   "source": [
    "# Monte Carlo simulation of pi"
   ]
  },
  {
   "cell_type": "code",
   "execution_count": 1,
   "id": "3459b2af",
   "metadata": {},
   "outputs": [],
   "source": [
    "import random as rd\n",
    "import math"
   ]
  },
  {
   "cell_type": "markdown",
   "id": "34b32088",
   "metadata": {},
   "source": [
    "## Part I: Simulating pi with two uniform random numbers\n",
    "\n",
    "This is a classic example of MC simulation. Generate a pair of uniform random numbers in $(x,y)$, representing the coordinate of a point. This point has a probability of $\\pi/4$ to fall inside the region bounded by $x^2 + y^2 = 1$ (a quadrant). Repeat the process $N$ times. The number of points inside the quadrant divided by $N$ converges to $\\pi/4$."
   ]
  },
  {
   "cell_type": "code",
   "execution_count": 2,
   "id": "8eb36927",
   "metadata": {},
   "outputs": [
    {
     "data": {
      "text/plain": [
       "3.1916"
      ]
     },
     "execution_count": 2,
     "metadata": {},
     "output_type": "execute_result"
    }
   ],
   "source": [
    "def two_uniform(N):\n",
    "    inside = 0\n",
    "    for n in range(N):\n",
    "        x = rd.random()\n",
    "        y = rd.random()\n",
    "        if x*x + y*y <= 1:\n",
    "            inside += 1\n",
    "    return inside/N*4\n",
    "\n",
    "two_uniform(10000)"
   ]
  },
  {
   "cell_type": "markdown",
   "id": "e82e8328",
   "metadata": {},
   "source": [
    "## Part II: Simulation with one uniform random number\n",
    "\n",
    "Now suppose the computer memory can only store one random number. How would you estimate $\\pi$?\n",
    "\n",
    "The idea is to perform a MC integration. We know $I = \\int_0^1 \\sqrt(1-x^2) dx = \\frac{\\pi}{4}$. For every uniform random number $x$, we can compute $y = \\sqrt(1-x^2)$. The integral $I$ can be estimated by $\\frac{\\sum y}{N}$."
   ]
  },
  {
   "cell_type": "code",
   "execution_count": 3,
   "id": "0d1988d4",
   "metadata": {},
   "outputs": [
    {
     "data": {
      "text/plain": [
       "3.1531454552549008"
      ]
     },
     "execution_count": 3,
     "metadata": {},
     "output_type": "execute_result"
    }
   ],
   "source": [
    "def func(x):\n",
    "    return math.sqrt(1 - x*x)\n",
    "\n",
    "def one_uniform(N):\n",
    "    integral = 0\n",
    "    for n in range(N):\n",
    "        x = rd.random()\n",
    "        y = func(x)\n",
    "        integral += y\n",
    "    return integral/N*4\n",
    "\n",
    "one_uniform(10000)"
   ]
  },
  {
   "cell_type": "markdown",
   "id": "6c1973ee",
   "metadata": {},
   "source": [
    "## Part III: Simulation with one normal random number\n",
    "\n",
    "What if our random number generator can only produce normally distributed random numbers?\n",
    "\n",
    "We will make use of the pdf of normal distribution. Check out the method and Python program here:\n",
    "\n",
    "https://math.stackexchange.com/questions/2558878/monte-carlo-approximation-of-pi-using-normally-distributed-points"
   ]
  },
  {
   "cell_type": "code",
   "execution_count": null,
   "id": "cee9222f",
   "metadata": {},
   "outputs": [],
   "source": []
  }
 ],
 "metadata": {
  "kernelspec": {
   "display_name": "Python 3",
   "language": "python",
   "name": "python3"
  },
  "language_info": {
   "codemirror_mode": {
    "name": "ipython",
    "version": 3
   },
   "file_extension": ".py",
   "mimetype": "text/x-python",
   "name": "python",
   "nbconvert_exporter": "python",
   "pygments_lexer": "ipython3",
   "version": "3.8.8"
  }
 },
 "nbformat": 4,
 "nbformat_minor": 5
}
