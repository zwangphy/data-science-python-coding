{
 "cells": [
  {
   "cell_type": "code",
   "execution_count": 1,
   "id": "24e86581",
   "metadata": {},
   "outputs": [],
   "source": [
    "import numpy as np\n",
    "import random as rd\n",
    "import math\n",
    "from matplotlib import pyplot as plt"
   ]
  },
  {
   "cell_type": "code",
   "execution_count": 2,
   "id": "4301179d",
   "metadata": {},
   "outputs": [],
   "source": [
    "# Generate until a smaller number appears. Return the number generated\n",
    "\n",
    "def greaterNum():\n",
    "    a = rd.random()\n",
    "    n = 1\n",
    "    while True:\n",
    "        b = rd.random()\n",
    "        n += 1\n",
    "        if b <= a:\n",
    "            break\n",
    "        a = b\n",
    "    return n\n",
    "\n",
    "# Generate until the sum exceeds 1. Return the number generated\n",
    "\n",
    "def sumNum():\n",
    "    a = rd.random()\n",
    "    n = 1\n",
    "    while a < 1:\n",
    "        a += rd.random()\n",
    "        n += 1\n",
    "    return n"
   ]
  },
  {
   "cell_type": "code",
   "execution_count": 3,
   "id": "801c5b95",
   "metadata": {},
   "outputs": [],
   "source": [
    "# Simulate greaterNum N times. Return an array storing the result\n",
    "\n",
    "def greaterNum_data(N):\n",
    "    arr = [greaterNum() for i in range(N)]\n",
    "    return arr\n",
    "\n",
    "# Simulate sumrNum N times. Return an array storing the result\n",
    "\n",
    "def sumNum_data(N):\n",
    "    arr = [sumNum() for i in range(N)]\n",
    "    return arr"
   ]
  },
  {
   "cell_type": "code",
   "execution_count": 4,
   "id": "5c726b7c",
   "metadata": {},
   "outputs": [],
   "source": [
    "# From the output arrays, print statistics and plot histograms\n",
    "\n",
    "def get_stat(data):\n",
    "    N = len(data)\n",
    "    data_dic = {}\n",
    "    for num in data:\n",
    "        if num not in data_dic:\n",
    "            data_dic[num] = 1\n",
    "        else:\n",
    "            data_dic[num] += 1\n",
    "    \n",
    "    avg = sum(data)/N\n",
    "    var = sum([num*num for num in data])/N - avg*avg\n",
    "    sd = math.sqrt(var)\n",
    "    num_max = max(data)\n",
    "    num_max_freq = data_dic[num_max]\n",
    "    mode = max(data_dic, key=data_dic.get)\n",
    "    mode_freq = data_dic[mode]\n",
    "    median = sorted(data)[N//2]\n",
    "    \n",
    "    print('average = ', avg)\n",
    "    print('variance = ', var)\n",
    "    print('standard deviation = ', sd)\n",
    "    print('max = ', num_max)\n",
    "    print('max number frequency =', num_max_freq)\n",
    "    print('mode = ', mode)\n",
    "    print('mode frequency =', mode_freq)\n",
    "    print('median = ', median)\n",
    "    \n",
    "    bins = np.arange(2, 10, 1) # fixed bin size\n",
    "\n",
    "    plt.xlim([min(data)-1, max(data)+1])\n",
    "\n",
    "    plt.hist(data, bins=bins, alpha=0.5)\n",
    "    plt.title('')\n",
    "    plt.xlabel('')\n",
    "    plt.ylabel('')\n",
    "\n",
    "    plt.show()"
   ]
  },
  {
   "cell_type": "code",
   "execution_count": 5,
   "id": "b061defe",
   "metadata": {},
   "outputs": [
    {
     "name": "stdout",
     "output_type": "stream",
     "text": [
      "average =  2.7237\n",
      "variance =  0.77675831\n",
      "standard deviation =  0.8813389302646286\n",
      "max =  8\n",
      "max number frequency = 1\n",
      "mode =  2\n",
      "mode frequency = 4985\n",
      "median =  3\n"
     ]
    },
    {
     "data": {
      "image/png": "[encoded data removed]",
      "text/plain": [
       "<Figure size 432x288 with 1 Axes>"
      ]
     },
     "metadata": {
      "needs_background": "light"
     },
     "output_type": "display_data"
    }
   ],
   "source": [
    "# 10000 runs of greaterNum\n",
    "\n",
    "get_stat(greaterNum_data(10000))"
   ]
  },
  {
   "cell_type": "code",
   "execution_count": 6,
   "id": "6b4ea0af",
   "metadata": {},
   "outputs": [
    {
     "name": "stdout",
     "output_type": "stream",
     "text": [
      "average =  2.7057\n",
      "variance =  0.7690875099999985\n",
      "standard deviation =  0.8769763451769942\n",
      "max =  8\n",
      "max number frequency = 2\n",
      "mode =  2\n",
      "mode frequency = 5115\n",
      "median =  2\n"
     ]
    },
    {
     "data": {
      "image/png": "[encoded data removed]",
      "text/plain": [
       "<Figure size 432x288 with 1 Axes>"
      ]
     },
     "metadata": {
      "needs_background": "light"
     },
     "output_type": "display_data"
    }
   ],
   "source": [
    "# 10000 runs of sumNum\n",
    "\n",
    "get_stat(sumNum_data(10000))"
   ]
  },
  {
   "cell_type": "code",
   "execution_count": null,
   "id": "1afc8742",
   "metadata": {},
   "outputs": [],
   "source": []
  }
 ],
 "metadata": {
  "kernelspec": {
   "display_name": "Python 3",
   "language": "python",
   "name": "python3"
  },
  "language_info": {
   "codemirror_mode": {
    "name": "ipython",
    "version": 3
   },
   "file_extension": ".py",
   "mimetype": "text/x-python",
   "name": "python",
   "nbconvert_exporter": "python",
   "pygments_lexer": "ipython3",
   "version": "3.8.8"
  }
 },
 "nbformat": 4,
 "nbformat_minor": 5
}
