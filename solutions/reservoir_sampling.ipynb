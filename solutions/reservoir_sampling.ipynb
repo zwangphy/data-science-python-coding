{
 "cells": [
  {
   "cell_type": "markdown",
   "id": "424f74cc",
   "metadata": {},
   "source": [
    "# reservoir sampling\n"
   ]
  },
  {
   "cell_type": "code",
   "execution_count": 1,
   "id": "6ca56456",
   "metadata": {},
   "outputs": [],
   "source": [
    "import random as rd"
   ]
  },
  {
   "cell_type": "markdown",
   "id": "7c8bfcae",
   "metadata": {},
   "source": [
    "## problem description\n",
    "\n",
    "There is a list `S` containing $n$ items, where $n$ is unknown or too large to fit the whole list to main memory. Write a Python program to randomly sample $k$ items from the input list without replacement."
   ]
  },
  {
   "cell_type": "markdown",
   "id": "8531acad",
   "metadata": {},
   "source": [
    "## strategy: an O(n) algo\n",
    "\n",
    "If $n$ is known and all items can be fit into main memory, we can simply generate $k$ random integers in the range $(0, n-1)$ inclusive, $a_1, a_2, ..., a_k$, and take items at these indices to the output array.\n",
    "\n",
    "\n",
    "Copy the first $k$ items of $S$ to a new array, `res`. This will be the output array to eventually return the randomly selected $k$ items. Scan items `S[i]` in `S` starting from the $k+1$-th item `S[k]`. Generate a random integer $j$ between 0 and i inclusive. If $0 \\leq j \\leq k-1$, replace `res[j]` by `S[i]`; otherwise, leave `res` unchanged.\n",
    "\n",
    "The program would look like \n",
    "\n",
    "```\n",
    "def reservoir(S, k):\n",
    "    res = S[:k]\n",
    "    \n",
    "    for i in range(k, len(S)):\n",
    "        j = rd.randint(0, i)\n",
    "        if j <= k - 1:\n",
    "            res[j] = S[i]\n",
    "    \n",
    "    return res\n",
    "```\n",
    "\n",
    "The trouble with this program is that the length of `S` in unknown.\n",
    "\n",
    "Instead, we can scan every item in `S` via the function `enumerate()` until we iterate all the items in `S`"
   ]
  },
  {
   "cell_type": "code",
   "execution_count": 2,
   "id": "f4fe2a55",
   "metadata": {},
   "outputs": [],
   "source": [
    "def reservoir(S, k):\n",
    "    res = []\n",
    "    \n",
    "    for index, num in enumerate(S):\n",
    "        if index < k:\n",
    "            res.append(num)\n",
    "        else:\n",
    "            j = rd.randint(0, index)\n",
    "            if j <= k - 1:\n",
    "                res[j] = S[index]\n",
    "    return res"
   ]
  },
  {
   "cell_type": "code",
   "execution_count": 3,
   "id": "54d2bee4",
   "metadata": {},
   "outputs": [
    {
     "data": {
      "text/plain": [
       "[25, 716, 518, 149, 23, 223, 44, 808, 297, 868]"
      ]
     },
     "execution_count": 3,
     "metadata": {},
     "output_type": "execute_result"
    }
   ],
   "source": [
    "reservoir([i for i in range(1000)], 10)"
   ]
  },
  {
   "cell_type": "markdown",
   "id": "ac6c5449",
   "metadata": {},
   "source": [
    "## proof\n",
    "\n",
    "A random sampling of $k$ items from a population of $n$ without replacement should ensure that every item has an equal probability $k/n$ to be chosen into the sample. Break down the sampling process into $k$ steps. At the first step, a particular item in the population has a probability $1/n$ to be chosen. The probability that a particular is chosen at the second step is $(1-\\frac{1}{n}) \\times \\frac{1}{n-1} = \\frac{1}{n} $. In general, the probability that it's chosen at the $i$-th step is\n",
    "\n",
    "$ (1-\\frac{1}{n}) \\times (1- \\frac{1}{n-1}) \\times \\cdots \\times (1-\\frac{1}{n-(i-2)}) \\times \\frac{1}{n-(i-1)} = \\frac{n-1}{n} \\times \\frac{n-2}{n-1} \\times \\cdots \\times \\frac{n-i+1}{n - i + 2 } \\times \\frac{1}{n-i+1)} = \\frac{1}{n} $\n",
    "\n",
    "Therefore, the probability it's chosen at one of the $k$ steps is $k/n$.\n",
    "\n",
    "Can you prove the above algo ensures every item in `S` has the probability of $k/n$ to sampled by `res`?"
   ]
  },
  {
   "cell_type": "code",
   "execution_count": null,
   "id": "8e1fa8b0",
   "metadata": {},
   "outputs": [],
   "source": []
  }
 ],
 "metadata": {
  "kernelspec": {
   "display_name": "Python 3",
   "language": "python",
   "name": "python3"
  },
  "language_info": {
   "codemirror_mode": {
    "name": "ipython",
    "version": 3
   },
   "file_extension": ".py",
   "mimetype": "text/x-python",
   "name": "python",
   "nbconvert_exporter": "python",
   "pygments_lexer": "ipython3",
   "version": "3.8.8"
  }
 },
 "nbformat": 4,
 "nbformat_minor": 5
}
